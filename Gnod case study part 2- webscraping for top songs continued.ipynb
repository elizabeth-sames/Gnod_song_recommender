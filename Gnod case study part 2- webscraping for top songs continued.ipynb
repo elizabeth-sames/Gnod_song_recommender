{
 "cells": [
  {
   "cell_type": "code",
   "execution_count": 1,
   "id": "109cefe2",
   "metadata": {},
   "outputs": [],
   "source": [
    "import requests\n",
    "from bs4 import BeautifulSoup\n",
    "import pandas as pd"
   ]
  },
  {
   "cell_type": "code",
   "execution_count": 24,
   "id": "a8377c73",
   "metadata": {},
   "outputs": [],
   "source": [
    "#top songs in UK\n",
    "url = 'https://www.officialcharts.com/charts/singles-chart/' "
   ]
  },
  {
   "cell_type": "code",
   "execution_count": 25,
   "id": "e5a1f3c8",
   "metadata": {},
   "outputs": [
    {
     "data": {
      "text/plain": [
       "200"
      ]
     },
     "execution_count": 25,
     "metadata": {},
     "output_type": "execute_result"
    }
   ],
   "source": [
    "response = requests.get(url)\n",
    "response.status_code"
   ]
  },
  {
   "cell_type": "code",
   "execution_count": 26,
   "id": "b88ce862",
   "metadata": {},
   "outputs": [],
   "source": [
    "soup = BeautifulSoup(response.content, 'html.parser')"
   ]
  },
  {
   "cell_type": "code",
   "execution_count": null,
   "id": "f2d42754",
   "metadata": {},
   "outputs": [],
   "source": [
    "#main > article > div > div.grid__cell.unit-2-3--desktop > section > table > tbody > tr:nth-child(2) > td:nth-child(3) > div"
   ]
  },
  {
   "cell_type": "code",
   "execution_count": 5,
   "id": "d9d0dbb3",
   "metadata": {},
   "outputs": [],
   "source": [
    "#soup.select('div.title a')\n",
    "#soup.select('div.artist a')"
   ]
  },
  {
   "cell_type": "code",
   "execution_count": 52,
   "id": "94545d5a",
   "metadata": {},
   "outputs": [],
   "source": [
    "from string import capwords\n",
    "songs = []\n",
    "artists = []\n",
    "\n",
    "for i in range(len(soup.select('div.title a'))):\n",
    "    songs.append(capwords(soup.select('div.title a')[i].get_text()))\n",
    "    artists.append(capwords(soup.select('div.artist a')[i].get_text()))\n"
   ]
  },
  {
   "cell_type": "code",
   "execution_count": 54,
   "id": "d189532e",
   "metadata": {},
   "outputs": [],
   "source": [
    "chart_songs = pd.DataFrame({\"title\":songs, \"artist\":artists})"
   ]
  },
  {
   "cell_type": "code",
   "execution_count": 55,
   "id": "0b495043",
   "metadata": {},
   "outputs": [
    {
     "data": {
      "text/html": [
       "<div>\n",
       "<style scoped>\n",
       "    .dataframe tbody tr th:only-of-type {\n",
       "        vertical-align: middle;\n",
       "    }\n",
       "\n",
       "    .dataframe tbody tr th {\n",
       "        vertical-align: top;\n",
       "    }\n",
       "\n",
       "    .dataframe thead th {\n",
       "        text-align: right;\n",
       "    }\n",
       "</style>\n",
       "<table border=\"1\" class=\"dataframe\">\n",
       "  <thead>\n",
       "    <tr style=\"text-align: right;\">\n",
       "      <th></th>\n",
       "      <th>title</th>\n",
       "      <th>artist</th>\n",
       "    </tr>\n",
       "  </thead>\n",
       "  <tbody>\n",
       "    <tr>\n",
       "      <th>0</th>\n",
       "      <td>Bad Habits</td>\n",
       "      <td>Ed Sheeran</td>\n",
       "    </tr>\n",
       "    <tr>\n",
       "      <th>1</th>\n",
       "      <td>Girls Want Girls</td>\n",
       "      <td>Drake Ft Lil Baby</td>\n",
       "    </tr>\n",
       "    <tr>\n",
       "      <th>2</th>\n",
       "      <td>Fair Trade</td>\n",
       "      <td>Drake Ft Travis Scott</td>\n",
       "    </tr>\n",
       "    <tr>\n",
       "      <th>3</th>\n",
       "      <td>Stay</td>\n",
       "      <td>Kid Laroi &amp; Justin Bieber</td>\n",
       "    </tr>\n",
       "    <tr>\n",
       "      <th>4</th>\n",
       "      <td>Champagne Poetry</td>\n",
       "      <td>Drake</td>\n",
       "    </tr>\n",
       "    <tr>\n",
       "      <th>...</th>\n",
       "      <td>...</td>\n",
       "      <td>...</td>\n",
       "    </tr>\n",
       "    <tr>\n",
       "      <th>95</th>\n",
       "      <td>Dance Monkey</td>\n",
       "      <td>Tones &amp; I</td>\n",
       "    </tr>\n",
       "    <tr>\n",
       "      <th>96</th>\n",
       "      <td>Like I Can</td>\n",
       "      <td>Sam Smith</td>\n",
       "    </tr>\n",
       "    <tr>\n",
       "      <th>97</th>\n",
       "      <td>Dreams</td>\n",
       "      <td>Fleetwood Mac</td>\n",
       "    </tr>\n",
       "    <tr>\n",
       "      <th>98</th>\n",
       "      <td>Dumb Love</td>\n",
       "      <td>Mimi Webb</td>\n",
       "    </tr>\n",
       "    <tr>\n",
       "      <th>99</th>\n",
       "      <td>Acapulco</td>\n",
       "      <td>Jason Derulo</td>\n",
       "    </tr>\n",
       "  </tbody>\n",
       "</table>\n",
       "<p>100 rows × 2 columns</p>\n",
       "</div>"
      ],
      "text/plain": [
       "               title                     artist\n",
       "0         Bad Habits                 Ed Sheeran\n",
       "1   Girls Want Girls          Drake Ft Lil Baby\n",
       "2         Fair Trade      Drake Ft Travis Scott\n",
       "3               Stay  Kid Laroi & Justin Bieber\n",
       "4   Champagne Poetry                      Drake\n",
       "..               ...                        ...\n",
       "95      Dance Monkey                  Tones & I\n",
       "96        Like I Can                  Sam Smith\n",
       "97            Dreams              Fleetwood Mac\n",
       "98         Dumb Love                  Mimi Webb\n",
       "99          Acapulco               Jason Derulo\n",
       "\n",
       "[100 rows x 2 columns]"
      ]
     },
     "execution_count": 55,
     "metadata": {},
     "output_type": "execute_result"
    }
   ],
   "source": [
    "chart_songs"
   ]
  },
  {
   "cell_type": "code",
   "execution_count": 56,
   "id": "b05cc3df",
   "metadata": {},
   "outputs": [],
   "source": [
    "chart_songs.to_csv('top_UK_songs.csv')"
   ]
  },
  {
   "cell_type": "code",
   "execution_count": null,
   "id": "b3e1b1d3",
   "metadata": {},
   "outputs": [],
   "source": []
  },
  {
   "cell_type": "code",
   "execution_count": 94,
   "id": "e9b5c6b9",
   "metadata": {},
   "outputs": [],
   "source": [
    "#Billboard Global 200\n",
    "url = 'https://www.billboard.com/charts/billboard-global-200'"
   ]
  },
  {
   "cell_type": "code",
   "execution_count": 95,
   "id": "6458f79c",
   "metadata": {},
   "outputs": [
    {
     "data": {
      "text/plain": [
       "200"
      ]
     },
     "execution_count": 95,
     "metadata": {},
     "output_type": "execute_result"
    }
   ],
   "source": [
    "response = requests.get(url)\n",
    "response.status_code"
   ]
  },
  {
   "cell_type": "code",
   "execution_count": 96,
   "id": "8da20a61",
   "metadata": {},
   "outputs": [],
   "source": [
    "soup = BeautifulSoup(response.content, 'html.parser')"
   ]
  },
  {
   "cell_type": "code",
   "execution_count": null,
   "id": "e5a59a8e",
   "metadata": {},
   "outputs": [],
   "source": [
    "#charts > div > div.chart-list__wrapper > div > ol > li:nth-child(1) > button > span.chart-element__information"
   ]
  },
  {
   "cell_type": "code",
   "execution_count": 7,
   "id": "c973e1f6",
   "metadata": {},
   "outputs": [],
   "source": [
    "#soup.select('span.chart-element__information span')"
   ]
  },
  {
   "cell_type": "code",
   "execution_count": 102,
   "id": "eafa4667",
   "metadata": {},
   "outputs": [],
   "source": [
    "title = []\n",
    "artist = []\n",
    "max_iter = len(soup.select('span.chart-element__information span'))\n",
    "\n",
    "for i in range(0,max_iter,7):\n",
    "    title.append(soup.select('span.chart-element__information span')[i].get_text())\n",
    "    artist.append(soup.select('span.chart-element__information span')[i+1].get_text())"
   ]
  },
  {
   "cell_type": "code",
   "execution_count": 103,
   "id": "d9cb9684",
   "metadata": {},
   "outputs": [],
   "source": [
    "top_songs = pd.DataFrame({\"title\":title, \"artist\":artist})"
   ]
  },
  {
   "cell_type": "code",
   "execution_count": 104,
   "id": "c95589ad",
   "metadata": {},
   "outputs": [
    {
     "data": {
      "text/html": [
       "<div>\n",
       "<style scoped>\n",
       "    .dataframe tbody tr th:only-of-type {\n",
       "        vertical-align: middle;\n",
       "    }\n",
       "\n",
       "    .dataframe tbody tr th {\n",
       "        vertical-align: top;\n",
       "    }\n",
       "\n",
       "    .dataframe thead th {\n",
       "        text-align: right;\n",
       "    }\n",
       "</style>\n",
       "<table border=\"1\" class=\"dataframe\">\n",
       "  <thead>\n",
       "    <tr style=\"text-align: right;\">\n",
       "      <th></th>\n",
       "      <th>title</th>\n",
       "      <th>artist</th>\n",
       "    </tr>\n",
       "  </thead>\n",
       "  <tbody>\n",
       "    <tr>\n",
       "      <th>0</th>\n",
       "      <td>Stay</td>\n",
       "      <td>The Kid LAROI &amp; Justin Bieber</td>\n",
       "    </tr>\n",
       "    <tr>\n",
       "      <th>1</th>\n",
       "      <td>Bad Habits</td>\n",
       "      <td>Ed Sheeran</td>\n",
       "    </tr>\n",
       "    <tr>\n",
       "      <th>2</th>\n",
       "      <td>Butter</td>\n",
       "      <td>BTS Featuring Megan Thee Stallion</td>\n",
       "    </tr>\n",
       "    <tr>\n",
       "      <th>3</th>\n",
       "      <td>Industry Baby</td>\n",
       "      <td>Lil Nas X &amp; Jack Harlow</td>\n",
       "    </tr>\n",
       "    <tr>\n",
       "      <th>4</th>\n",
       "      <td>Hurricane</td>\n",
       "      <td>Kanye West</td>\n",
       "    </tr>\n",
       "    <tr>\n",
       "      <th>...</th>\n",
       "      <td>...</td>\n",
       "      <td>...</td>\n",
       "    </tr>\n",
       "    <tr>\n",
       "      <th>195</th>\n",
       "      <td>Something Just Like This</td>\n",
       "      <td>The Chainsmokers &amp; Coldplay</td>\n",
       "    </tr>\n",
       "    <tr>\n",
       "      <th>196</th>\n",
       "      <td>I Don't Care</td>\n",
       "      <td>Ed Sheeran &amp; Justin Bieber</td>\n",
       "    </tr>\n",
       "    <tr>\n",
       "      <th>197</th>\n",
       "      <td>Gyalis</td>\n",
       "      <td>Capella Grey</td>\n",
       "    </tr>\n",
       "    <tr>\n",
       "      <th>198</th>\n",
       "      <td>Wake Me Up!</td>\n",
       "      <td>Avicii</td>\n",
       "    </tr>\n",
       "    <tr>\n",
       "      <th>199</th>\n",
       "      <td>Whole Lotta Money</td>\n",
       "      <td>BIA Featuring Nicki Minaj</td>\n",
       "    </tr>\n",
       "  </tbody>\n",
       "</table>\n",
       "<p>200 rows × 2 columns</p>\n",
       "</div>"
      ],
      "text/plain": [
       "                        title                             artist\n",
       "0                        Stay      The Kid LAROI & Justin Bieber\n",
       "1                  Bad Habits                         Ed Sheeran\n",
       "2                      Butter  BTS Featuring Megan Thee Stallion\n",
       "3               Industry Baby            Lil Nas X & Jack Harlow\n",
       "4                   Hurricane                         Kanye West\n",
       "..                        ...                                ...\n",
       "195  Something Just Like This        The Chainsmokers & Coldplay\n",
       "196              I Don't Care         Ed Sheeran & Justin Bieber\n",
       "197                    Gyalis                       Capella Grey\n",
       "198               Wake Me Up!                             Avicii\n",
       "199         Whole Lotta Money          BIA Featuring Nicki Minaj\n",
       "\n",
       "[200 rows x 2 columns]"
      ]
     },
     "execution_count": 104,
     "metadata": {},
     "output_type": "execute_result"
    }
   ],
   "source": [
    "top_songs"
   ]
  },
  {
   "cell_type": "code",
   "execution_count": 105,
   "id": "6d34ca30",
   "metadata": {},
   "outputs": [],
   "source": [
    "top_songs.to_csv('international_top100.csv')"
   ]
  },
  {
   "cell_type": "code",
   "execution_count": null,
   "id": "36dcd8c3",
   "metadata": {},
   "outputs": [],
   "source": []
  }
 ],
 "metadata": {
  "kernelspec": {
   "display_name": "Python 3 (ipykernel)",
   "language": "python",
   "name": "python3"
  },
  "language_info": {
   "codemirror_mode": {
    "name": "ipython",
    "version": 3
   },
   "file_extension": ".py",
   "mimetype": "text/x-python",
   "name": "python",
   "nbconvert_exporter": "python",
   "pygments_lexer": "ipython3",
   "version": "3.9.6"
  }
 },
 "nbformat": 4,
 "nbformat_minor": 5
}
