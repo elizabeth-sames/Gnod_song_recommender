{
 "cells": [
  {
   "cell_type": "code",
   "execution_count": 1,
   "id": "4826d73a",
   "metadata": {},
   "outputs": [],
   "source": [
    "import pandas as pd\n",
    "import random"
   ]
  },
  {
   "cell_type": "code",
   "execution_count": 2,
   "id": "79aea611",
   "metadata": {},
   "outputs": [],
   "source": [
    "top_US = pd.read_csv('billboard_top100.csv', index_col=0)\n",
    "top_international = pd.read_csv('international_top100.csv', index_col=0)\n",
    "top_UK = pd.read_csv('top_UK_songs.csv', index_col=0)"
   ]
  },
  {
   "cell_type": "code",
   "execution_count": 3,
   "id": "f9943c65",
   "metadata": {},
   "outputs": [
    {
     "data": {
      "text/html": [
       "<div>\n",
       "<style scoped>\n",
       "    .dataframe tbody tr th:only-of-type {\n",
       "        vertical-align: middle;\n",
       "    }\n",
       "\n",
       "    .dataframe tbody tr th {\n",
       "        vertical-align: top;\n",
       "    }\n",
       "\n",
       "    .dataframe thead th {\n",
       "        text-align: right;\n",
       "    }\n",
       "</style>\n",
       "<table border=\"1\" class=\"dataframe\">\n",
       "  <thead>\n",
       "    <tr style=\"text-align: right;\">\n",
       "      <th></th>\n",
       "      <th>title</th>\n",
       "      <th>artist</th>\n",
       "    </tr>\n",
       "  </thead>\n",
       "  <tbody>\n",
       "    <tr>\n",
       "      <th>0</th>\n",
       "      <td>Butter</td>\n",
       "      <td>BTS</td>\n",
       "    </tr>\n",
       "    <tr>\n",
       "      <th>1</th>\n",
       "      <td>Stay</td>\n",
       "      <td>The Kid LAROI &amp; Justin Bieber</td>\n",
       "    </tr>\n",
       "    <tr>\n",
       "      <th>2</th>\n",
       "      <td>Bad Habits</td>\n",
       "      <td>Ed Sheeran</td>\n",
       "    </tr>\n",
       "    <tr>\n",
       "      <th>3</th>\n",
       "      <td>Good 4 U</td>\n",
       "      <td>Olivia Rodrigo</td>\n",
       "    </tr>\n",
       "    <tr>\n",
       "      <th>4</th>\n",
       "      <td>Kiss Me More</td>\n",
       "      <td>Doja Cat Featuring SZA</td>\n",
       "    </tr>\n",
       "    <tr>\n",
       "      <th>...</th>\n",
       "      <td>...</td>\n",
       "      <td>...</td>\n",
       "    </tr>\n",
       "    <tr>\n",
       "      <th>395</th>\n",
       "      <td>Dance Monkey</td>\n",
       "      <td>Tones &amp; I</td>\n",
       "    </tr>\n",
       "    <tr>\n",
       "      <th>396</th>\n",
       "      <td>Like I Can</td>\n",
       "      <td>Sam Smith</td>\n",
       "    </tr>\n",
       "    <tr>\n",
       "      <th>397</th>\n",
       "      <td>Dreams</td>\n",
       "      <td>Fleetwood Mac</td>\n",
       "    </tr>\n",
       "    <tr>\n",
       "      <th>398</th>\n",
       "      <td>Dumb Love</td>\n",
       "      <td>Mimi Webb</td>\n",
       "    </tr>\n",
       "    <tr>\n",
       "      <th>399</th>\n",
       "      <td>Acapulco</td>\n",
       "      <td>Jason Derulo</td>\n",
       "    </tr>\n",
       "  </tbody>\n",
       "</table>\n",
       "<p>400 rows × 2 columns</p>\n",
       "</div>"
      ],
      "text/plain": [
       "            title                         artist\n",
       "0          Butter                            BTS\n",
       "1            Stay  The Kid LAROI & Justin Bieber\n",
       "2      Bad Habits                     Ed Sheeran\n",
       "3        Good 4 U                 Olivia Rodrigo\n",
       "4    Kiss Me More         Doja Cat Featuring SZA\n",
       "..            ...                            ...\n",
       "395  Dance Monkey                      Tones & I\n",
       "396    Like I Can                      Sam Smith\n",
       "397        Dreams                  Fleetwood Mac\n",
       "398     Dumb Love                      Mimi Webb\n",
       "399      Acapulco                   Jason Derulo\n",
       "\n",
       "[400 rows x 2 columns]"
      ]
     },
     "execution_count": 3,
     "metadata": {},
     "output_type": "execute_result"
    }
   ],
   "source": [
    "#combine song datasets\n",
    "hot_songs = pd.concat([top_US, top_international, top_UK], axis = 0)\n",
    "hot_songs.reset_index(inplace=True, drop=True)\n",
    "hot_songs"
   ]
  },
  {
   "cell_type": "code",
   "execution_count": 5,
   "id": "522cc78a",
   "metadata": {},
   "outputs": [
    {
     "data": {
      "text/html": [
       "<div>\n",
       "<style scoped>\n",
       "    .dataframe tbody tr th:only-of-type {\n",
       "        vertical-align: middle;\n",
       "    }\n",
       "\n",
       "    .dataframe tbody tr th {\n",
       "        vertical-align: top;\n",
       "    }\n",
       "\n",
       "    .dataframe thead th {\n",
       "        text-align: right;\n",
       "    }\n",
       "</style>\n",
       "<table border=\"1\" class=\"dataframe\">\n",
       "  <thead>\n",
       "    <tr style=\"text-align: right;\">\n",
       "      <th></th>\n",
       "      <th>title</th>\n",
       "      <th>artist</th>\n",
       "    </tr>\n",
       "  </thead>\n",
       "  <tbody>\n",
       "    <tr>\n",
       "      <th>0</th>\n",
       "      <td>Butter</td>\n",
       "      <td>BTS</td>\n",
       "    </tr>\n",
       "    <tr>\n",
       "      <th>1</th>\n",
       "      <td>Stay</td>\n",
       "      <td>The Kid LAROI &amp; Justin Bieber</td>\n",
       "    </tr>\n",
       "    <tr>\n",
       "      <th>2</th>\n",
       "      <td>Bad Habits</td>\n",
       "      <td>Ed Sheeran</td>\n",
       "    </tr>\n",
       "    <tr>\n",
       "      <th>3</th>\n",
       "      <td>Good 4 U</td>\n",
       "      <td>Olivia Rodrigo</td>\n",
       "    </tr>\n",
       "    <tr>\n",
       "      <th>4</th>\n",
       "      <td>Kiss Me More</td>\n",
       "      <td>Doja Cat Featuring SZA</td>\n",
       "    </tr>\n",
       "    <tr>\n",
       "      <th>...</th>\n",
       "      <td>...</td>\n",
       "      <td>...</td>\n",
       "    </tr>\n",
       "    <tr>\n",
       "      <th>274</th>\n",
       "      <td>Little Bit Of This</td>\n",
       "      <td>Central Cee</td>\n",
       "    </tr>\n",
       "    <tr>\n",
       "      <th>275</th>\n",
       "      <td>Life Goes On</td>\n",
       "      <td>Ps1 Ft Alex Hosking</td>\n",
       "    </tr>\n",
       "    <tr>\n",
       "      <th>276</th>\n",
       "      <td>Breadwinner</td>\n",
       "      <td>M Huncho</td>\n",
       "    </tr>\n",
       "    <tr>\n",
       "      <th>277</th>\n",
       "      <td>Dumb Love</td>\n",
       "      <td>Mimi Webb</td>\n",
       "    </tr>\n",
       "    <tr>\n",
       "      <th>278</th>\n",
       "      <td>Acapulco</td>\n",
       "      <td>Jason Derulo</td>\n",
       "    </tr>\n",
       "  </tbody>\n",
       "</table>\n",
       "<p>279 rows × 2 columns</p>\n",
       "</div>"
      ],
      "text/plain": [
       "                  title                         artist\n",
       "0                Butter                            BTS\n",
       "1                  Stay  The Kid LAROI & Justin Bieber\n",
       "2            Bad Habits                     Ed Sheeran\n",
       "3              Good 4 U                 Olivia Rodrigo\n",
       "4          Kiss Me More         Doja Cat Featuring SZA\n",
       "..                  ...                            ...\n",
       "274  Little Bit Of This                    Central Cee\n",
       "275        Life Goes On            Ps1 Ft Alex Hosking\n",
       "276         Breadwinner                       M Huncho\n",
       "277           Dumb Love                      Mimi Webb\n",
       "278            Acapulco                   Jason Derulo\n",
       "\n",
       "[279 rows x 2 columns]"
      ]
     },
     "execution_count": 5,
     "metadata": {},
     "output_type": "execute_result"
    }
   ],
   "source": [
    "#remove duplicate songs\n",
    "hot_songs.drop_duplicates(subset=['title'], keep='first', inplace=True)\n",
    "hot_songs.reset_index(inplace=True, drop=True)\n",
    "hot_songs"
   ]
  },
  {
   "cell_type": "code",
   "execution_count": 6,
   "id": "54d1df57",
   "metadata": {},
   "outputs": [],
   "source": [
    "hot_songs.to_csv('hot_songs.csv')"
   ]
  },
  {
   "cell_type": "code",
   "execution_count": 48,
   "id": "cc9878c0",
   "metadata": {},
   "outputs": [
    {
     "data": {
      "text/plain": [
       "Butter                  1\n",
       "For The Night           1\n",
       "Die For It              1\n",
       "Meu Pedaco de Pecado    1\n",
       "Bilmem Mi?              1\n",
       "                       ..\n",
       "Matt Hardy 999          1\n",
       "Permission To Dance     1\n",
       "Love Tonight            1\n",
       "Blinding Lights         1\n",
       "Acapulco                1\n",
       "Name: title, Length: 279, dtype: int64"
      ]
     },
     "execution_count": 48,
     "metadata": {},
     "output_type": "execute_result"
    }
   ],
   "source": [
    "hot_songs.title.value_counts()"
   ]
  },
  {
   "cell_type": "code",
   "execution_count": null,
   "id": "368db80e",
   "metadata": {},
   "outputs": [],
   "source": []
  },
  {
   "cell_type": "code",
   "execution_count": null,
   "id": "86e6278b",
   "metadata": {},
   "outputs": [],
   "source": [
    "#build hot song recommender"
   ]
  },
  {
   "cell_type": "code",
   "execution_count": 70,
   "id": "a0e57de3",
   "metadata": {},
   "outputs": [],
   "source": [
    "def hot_song_recommender(song):\n",
    "    if song in hot_songs.title.values:\n",
    "        n = random.randint(0,len(hot_songs))\n",
    "        reco_song_title = hot_songs.title[n]\n",
    "        reco_song_artist = hot_songs.artist[n]\n",
    "        return f\"We recommend {reco_song_title} by {reco_song_artist}.\""
   ]
  },
  {
   "cell_type": "code",
   "execution_count": null,
   "id": "ae30a70f",
   "metadata": {
    "collapsed": true
   },
   "outputs": [],
   "source": []
  },
  {
   "cell_type": "code",
   "execution_count": 71,
   "id": "a585773d",
   "metadata": {},
   "outputs": [
    {
     "data": {
      "text/plain": [
       "'We recommend Drivers License by Olivia Rodrigo.'"
      ]
     },
     "execution_count": 71,
     "metadata": {},
     "output_type": "execute_result"
    }
   ],
   "source": [
    "hot_song_recommender('Butter')"
   ]
  },
  {
   "cell_type": "code",
   "execution_count": null,
   "id": "7f84f17a",
   "metadata": {},
   "outputs": [],
   "source": []
  }
 ],
 "metadata": {
  "kernelspec": {
   "display_name": "Python 3 (ipykernel)",
   "language": "python",
   "name": "python3"
  },
  "language_info": {
   "codemirror_mode": {
    "name": "ipython",
    "version": 3
   },
   "file_extension": ".py",
   "mimetype": "text/x-python",
   "name": "python",
   "nbconvert_exporter": "python",
   "pygments_lexer": "ipython3",
   "version": "3.9.6"
  }
 },
 "nbformat": 4,
 "nbformat_minor": 5
}
